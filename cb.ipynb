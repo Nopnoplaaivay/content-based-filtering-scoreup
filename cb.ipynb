{
 "cells": [
  {
   "cell_type": "code",
   "execution_count": 73,
   "metadata": {},
   "outputs": [],
   "source": [
    "import json\n",
    "import numpy as np\n",
    "\n",
    "from src.models.feature_vectors import FeaturesVector\n",
    "\n",
    "FeaturesVector.generate_features_vector()\n",
    "feature_vectors = FeaturesVector.FEATURES_VECTOR\n",
    "features_vector = np.array(list(feature_vectors.values()))"
   ]
  },
  {
   "cell_type": "code",
   "execution_count": 74,
   "metadata": {},
   "outputs": [
    {
     "name": "stdout",
     "output_type": "stream",
     "text": [
      "Training set size: (9397, 3)\n",
      "Testing set size: (2496, 3)\n"
     ]
    }
   ],
   "source": [
    "import pandas as pd\n",
    "from sklearn.model_selection import train_test_split\n",
    "\n",
    "ratings = pd.read_csv('user_cluster_ratings.csv')\n",
    "rating_train_base = pd.DataFrame(columns=ratings.columns)\n",
    "rating_test_base = pd.DataFrame(columns=ratings.columns)\n",
    "\n",
    "\n",
    "# Group the data by user_id and split each group\n",
    "for user_id, group in ratings.groupby('user_id'):\n",
    "    train, test = train_test_split(group, test_size=0.2, random_state=42)\n",
    "    rating_train_base = pd.concat([rating_train_base, train])\n",
    "    rating_test_base = pd.concat([rating_test_base, test])\n",
    "\n",
    "\n",
    "rating_train_base = rating_train_base.sort_values(by='user_id').reset_index(drop=True)\n",
    "rating_test_base = rating_test_base.sort_values(by='user_id').reset_index(drop=True)\n",
    "rating_train_base.to_csv('user_cluster_ratings_train.csv', index=False)\n",
    "rating_test_base.to_csv('user_cluster_ratings_test.csv', index=False)\n",
    "\n",
    "\n",
    "rating_matrix = ratings.values\n",
    "\n",
    "# Convert to numpy arrays if needed\n",
    "rating_train = rating_train_base.values\n",
    "rating_test = rating_test_base.values\n",
    "\n",
    "print(\"Training set size:\", rating_train.shape)\n",
    "print(\"Testing set size:\", rating_test.shape)"
   ]
  },
  {
   "cell_type": "code",
   "execution_count": 75,
   "metadata": {},
   "outputs": [
    {
     "data": {
      "text/plain": [
       "array([[1, 106, 2.145708954130928],\n",
       "       [1, 67, 1.7840255935133356],\n",
       "       [1, 62, 1.0034473250624316],\n",
       "       ...,\n",
       "       [300, 124, 3.845816746228639],\n",
       "       [300, 12, 4.044453104959272],\n",
       "       [300, 116, 1.0729587552495312]], dtype=object)"
      ]
     },
     "execution_count": 75,
     "metadata": {},
     "output_type": "execute_result"
    }
   ],
   "source": [
    "rating_train"
   ]
  },
  {
   "cell_type": "code",
   "execution_count": 76,
   "metadata": {},
   "outputs": [
    {
     "data": {
      "text/plain": [
       "(array([ 83.,  45.,   7., 108.,  56., 113.,  50., 105.,   8.,   4.,  98.,\n",
       "         65.,  87., 110.,  77.,  54.,  12.,  41.,  69.,  57.,  46.,  91.,\n",
       "         35.,  40.,  68.,   3., 100.,  84.,  75.,  80.,   6.,   9., 116.,\n",
       "         17.,   2.,  27., 111.,  16., 115., 118.,  31.,  10.,  29.,  82.,\n",
       "         33.,  21., 122.,  60.]),\n",
       " array([1.06, 4.4 , 4.25, 1.85, 1.83, 2.88, 1.25, 3.64, 1.01, 2.58, 1.21,\n",
       "        3.16, 1.45, 1.77, 3.08, 1.6 , 2.69, 1.42, 1.77, 4.57, 3.  , 2.27,\n",
       "        1.8 , 4.07, 1.6 , 3.25, 1.06, 2.88, 3.21, 1.92, 2.27, 1.1 , 2.01,\n",
       "        2.  , 3.8 , 3.22, 2.12, 3.36, 4.03, 3.57, 4.19, 3.82, 3.48, 4.59,\n",
       "        3.46, 2.38, 2.35, 3.86]))"
      ]
     },
     "execution_count": 76,
     "metadata": {},
     "output_type": "execute_result"
    }
   ],
   "source": [
    "import numpy as np\n",
    "def get_items_rated_by_user(rate_matrix, user_id):\n",
    "    \"\"\"\n",
    "    in each line of rate_matrix, we have infor: user_id, item_id, rating (scores), time_stamp\n",
    "    we care about the first three values\n",
    "    return (item_ids, scores) rated by user user_id\n",
    "    \"\"\"\n",
    "    y = rate_matrix[:,0] # all users\n",
    "    # item indices rated by user_id\n",
    "    # we need to +1 to user_id since in the rate_matrix, id starts from 1 \n",
    "    # while index in python starts from 0\n",
    "    ids = np.where(y == user_id)[0] \n",
    "    item_ids = rate_matrix[ids, 1] # index starts from 0 \n",
    "    scores = rate_matrix[ids, 2]\n",
    "    return (item_ids, scores)\n",
    "\n",
    "get_items_rated_by_user(rating_matrix, 253)"
   ]
  },
  {
   "cell_type": "code",
   "execution_count": 77,
   "metadata": {},
   "outputs": [],
   "source": [
    "n_users = np.max(rating_train[:, 0])\n",
    "n_users = int(n_users)"
   ]
  },
  {
   "cell_type": "code",
   "execution_count": 78,
   "metadata": {},
   "outputs": [
    {
     "data": {
      "text/plain": [
       "3"
      ]
     },
     "execution_count": 78,
     "metadata": {},
     "output_type": "execute_result"
    }
   ],
   "source": [
    "features_vector.shape[1]"
   ]
  },
  {
   "cell_type": "code",
   "execution_count": null,
   "metadata": {},
   "outputs": [],
   "source": [
    "from sklearn.linear_model import Ridge\n",
    "from sklearn import linear_model\n",
    "\n",
    "d = features_vector.shape[1] # data dimension\n",
    "W = np.zeros((d, n_users))\n",
    "b = np.zeros((1, n_users))\n",
    "\n",
    "for n in range(n_users):    \n",
    "    ids, scores = get_items_rated_by_user(rating_train, n + 1)\n",
    "    ids = list(map(int, ids))\n",
    "    clf = Ridge(alpha=0.01, fit_intercept = True)\n",
    "    Xhat = features_vector[ids, :]\n",
    "\n",
    "    clf.fit(Xhat, scores) \n",
    "    W[:, n] = clf.coef_\n",
    "    b[0, n] = clf.intercept_"
   ]
  },
  {
   "cell_type": "code",
   "execution_count": 81,
   "metadata": {},
   "outputs": [],
   "source": [
    "Yhat = features_vector.dot(W) + b"
   ]
  },
  {
   "cell_type": "code",
   "execution_count": 82,
   "metadata": {},
   "outputs": [
    {
     "data": {
      "text/plain": [
       "array([[2.94, 3.72, 3.34, ..., 2.66, 2.66, 2.25],\n",
       "       [3.08, 1.81, 2.59, ..., 3.89, 3.44, 3.11],\n",
       "       [3.3 , 3.24, 2.86, ..., 2.25, 2.51, 2.9 ],\n",
       "       ...,\n",
       "       [3.35, 2.98, 2.73, ..., 2.35, 2.59, 3.06],\n",
       "       [3.06, 2.45, 3.01, ..., 3.25, 2.87, 2.31],\n",
       "       [3.29, 2.18, 2.27, ..., 3.33, 3.41, 3.97]])"
      ]
     },
     "execution_count": 82,
     "metadata": {},
     "output_type": "execute_result"
    }
   ],
   "source": [
    "Yhat"
   ]
  },
  {
   "cell_type": "code",
   "execution_count": 87,
   "metadata": {},
   "outputs": [
    {
     "data": {
      "text/plain": [
       "126"
      ]
     },
     "execution_count": 87,
     "metadata": {},
     "output_type": "execute_result"
    }
   ],
   "source": [
    "len(Yhat)"
   ]
  },
  {
   "cell_type": "code",
   "execution_count": 84,
   "metadata": {},
   "outputs": [
    {
     "data": {
      "text/html": [
       "<div>\n",
       "<style scoped>\n",
       "    .dataframe tbody tr th:only-of-type {\n",
       "        vertical-align: middle;\n",
       "    }\n",
       "\n",
       "    .dataframe tbody tr th {\n",
       "        vertical-align: top;\n",
       "    }\n",
       "\n",
       "    .dataframe thead th {\n",
       "        text-align: right;\n",
       "    }\n",
       "</style>\n",
       "<table border=\"1\" class=\"dataframe\">\n",
       "  <thead>\n",
       "    <tr style=\"text-align: right;\">\n",
       "      <th></th>\n",
       "      <th>user_id</th>\n",
       "      <th>cluster</th>\n",
       "      <th>rating</th>\n",
       "    </tr>\n",
       "  </thead>\n",
       "  <tbody>\n",
       "    <tr>\n",
       "      <th>0</th>\n",
       "      <td>1</td>\n",
       "      <td>96</td>\n",
       "      <td>4.457969</td>\n",
       "    </tr>\n",
       "    <tr>\n",
       "      <th>1</th>\n",
       "      <td>1</td>\n",
       "      <td>33</td>\n",
       "      <td>2.364088</td>\n",
       "    </tr>\n",
       "    <tr>\n",
       "      <th>2</th>\n",
       "      <td>1</td>\n",
       "      <td>99</td>\n",
       "      <td>2.005402</td>\n",
       "    </tr>\n",
       "    <tr>\n",
       "      <th>3</th>\n",
       "      <td>1</td>\n",
       "      <td>119</td>\n",
       "      <td>3.789556</td>\n",
       "    </tr>\n",
       "    <tr>\n",
       "      <th>4</th>\n",
       "      <td>1</td>\n",
       "      <td>3</td>\n",
       "      <td>4.028167</td>\n",
       "    </tr>\n",
       "    <tr>\n",
       "      <th>...</th>\n",
       "      <td>...</td>\n",
       "      <td>...</td>\n",
       "      <td>...</td>\n",
       "    </tr>\n",
       "    <tr>\n",
       "      <th>2491</th>\n",
       "      <td>300</td>\n",
       "      <td>91</td>\n",
       "      <td>2.377070</td>\n",
       "    </tr>\n",
       "    <tr>\n",
       "      <th>2492</th>\n",
       "      <td>300</td>\n",
       "      <td>51</td>\n",
       "      <td>1.810235</td>\n",
       "    </tr>\n",
       "    <tr>\n",
       "      <th>2493</th>\n",
       "      <td>300</td>\n",
       "      <td>90</td>\n",
       "      <td>4.757126</td>\n",
       "    </tr>\n",
       "    <tr>\n",
       "      <th>2494</th>\n",
       "      <td>300</td>\n",
       "      <td>95</td>\n",
       "      <td>4.294258</td>\n",
       "    </tr>\n",
       "    <tr>\n",
       "      <th>2495</th>\n",
       "      <td>300</td>\n",
       "      <td>34</td>\n",
       "      <td>1.246623</td>\n",
       "    </tr>\n",
       "  </tbody>\n",
       "</table>\n",
       "<p>2496 rows × 3 columns</p>\n",
       "</div>"
      ],
      "text/plain": [
       "     user_id cluster    rating\n",
       "0          1      96  4.457969\n",
       "1          1      33  2.364088\n",
       "2          1      99  2.005402\n",
       "3          1     119  3.789556\n",
       "4          1       3  4.028167\n",
       "...      ...     ...       ...\n",
       "2491     300      91  2.377070\n",
       "2492     300      51  1.810235\n",
       "2493     300      90  4.757126\n",
       "2494     300      95  4.294258\n",
       "2495     300      34  1.246623\n",
       "\n",
       "[2496 rows x 3 columns]"
      ]
     },
     "execution_count": 84,
     "metadata": {},
     "output_type": "execute_result"
    }
   ],
   "source": [
    "rating_test_base"
   ]
  },
  {
   "cell_type": "code",
   "execution_count": 85,
   "metadata": {},
   "outputs": [
    {
     "data": {
      "text/plain": [
       "2496"
      ]
     },
     "execution_count": 85,
     "metadata": {},
     "output_type": "execute_result"
    }
   ],
   "source": [
    "len(rating_test)"
   ]
  },
  {
   "cell_type": "code",
   "execution_count": null,
   "metadata": {},
   "outputs": [],
   "source": []
  },
  {
   "cell_type": "code",
   "execution_count": 90,
   "metadata": {},
   "outputs": [
    {
     "name": "stdout",
     "output_type": "stream",
     "text": [
      "Rated movies ids : [ 89  83  73 104 122   9  44  14 117  56]\n",
      "True ratings     : [2.877488783326375 1.4172240957366808 1.370292651508085 3.729834321710912\n",
      " 3.23736525097096 4.622849974471514 3.221629649939767 4.224535738464054\n",
      " 1.4817585349374085 4.7873752376732845]\n",
      "Predicted ratings: [3.29 2.97 3.07 3.17 3.2  3.2  2.83 2.81 3.12 3.48]\n"
     ]
    }
   ],
   "source": [
    "n = 125\n",
    "np.set_printoptions(precision=2)\n",
    "ids, scores = get_items_rated_by_user(rating_test, n)\n",
    "ids = ids.astype(int)\n",
    "\n",
    "Yhat[n, ids]\n",
    "print('Rated movies ids :', ids )\n",
    "print('True ratings     :', scores)\n",
    "print('Predicted ratings:', Yhat[ids, n])"
   ]
  },
  {
   "cell_type": "code",
   "execution_count": 91,
   "metadata": {},
   "outputs": [
    {
     "ename": "IndexError",
     "evalue": "arrays used as indices must be of integer (or boolean) type",
     "output_type": "error",
     "traceback": [
      "\u001b[1;31m---------------------------------------------------------------------------\u001b[0m",
      "\u001b[1;31mIndexError\u001b[0m                                Traceback (most recent call last)",
      "Cell \u001b[1;32mIn[91], line 14\u001b[0m\n\u001b[0;32m     11\u001b[0m         cnt \u001b[38;5;241m+\u001b[39m\u001b[38;5;241m=\u001b[39m e\u001b[38;5;241m.\u001b[39msize \n\u001b[0;32m     12\u001b[0m     \u001b[38;5;28;01mreturn\u001b[39;00m math\u001b[38;5;241m.\u001b[39msqrt(se\u001b[38;5;241m/\u001b[39mcnt)\n\u001b[1;32m---> 14\u001b[0m \u001b[38;5;28mprint\u001b[39m(\u001b[38;5;124m'\u001b[39m\u001b[38;5;124mRMSE for training:\u001b[39m\u001b[38;5;124m'\u001b[39m, \u001b[43mevaluate\u001b[49m\u001b[43m(\u001b[49m\u001b[43mYhat\u001b[49m\u001b[43m,\u001b[49m\u001b[43m \u001b[49m\u001b[43mrating_train\u001b[49m\u001b[43m,\u001b[49m\u001b[43m \u001b[49m\u001b[43mW\u001b[49m\u001b[43m,\u001b[49m\u001b[43m \u001b[49m\u001b[43mb\u001b[49m\u001b[43m)\u001b[49m)\n\u001b[0;32m     15\u001b[0m \u001b[38;5;28mprint\u001b[39m(\u001b[38;5;124m'\u001b[39m\u001b[38;5;124mRMSE for test    :\u001b[39m\u001b[38;5;124m'\u001b[39m, evaluate(Yhat, rating_test, W, b))\n\u001b[0;32m     16\u001b[0m \u001b[38;5;66;03m# print 'RMSE for training:', evaluate(Yhat, rate_train, W, b)\u001b[39;00m\n\u001b[0;32m     17\u001b[0m \u001b[38;5;66;03m# print 'RMSE for test    :', evaluate(Yhat, rate_test, W, b)\u001b[39;00m\n",
      "Cell \u001b[1;32mIn[91], line 8\u001b[0m, in \u001b[0;36mevaluate\u001b[1;34m(Yhat, rates, W, b)\u001b[0m\n\u001b[0;32m      6\u001b[0m \u001b[38;5;28;01mfor\u001b[39;00m n \u001b[38;5;129;01min\u001b[39;00m \u001b[38;5;28mrange\u001b[39m(n_users):\n\u001b[0;32m      7\u001b[0m     ids, scores_truth \u001b[38;5;241m=\u001b[39m get_items_rated_by_user(rates, n)\n\u001b[1;32m----> 8\u001b[0m     scores_pred \u001b[38;5;241m=\u001b[39m \u001b[43mYhat\u001b[49m\u001b[43m[\u001b[49m\u001b[43mids\u001b[49m\u001b[43m,\u001b[49m\u001b[43m \u001b[49m\u001b[43mn\u001b[49m\u001b[43m]\u001b[49m\n\u001b[0;32m      9\u001b[0m     e \u001b[38;5;241m=\u001b[39m scores_truth \u001b[38;5;241m-\u001b[39m scores_pred \n\u001b[0;32m     10\u001b[0m     se \u001b[38;5;241m+\u001b[39m\u001b[38;5;241m=\u001b[39m (e\u001b[38;5;241m*\u001b[39me)\u001b[38;5;241m.\u001b[39msum(axis \u001b[38;5;241m=\u001b[39m \u001b[38;5;241m0\u001b[39m)\n",
      "\u001b[1;31mIndexError\u001b[0m: arrays used as indices must be of integer (or boolean) type"
     ]
    }
   ],
   "source": [
    "import math\n",
    "\n",
    "def evaluate(Yhat, rates, W, b):\n",
    "    se = 0\n",
    "    cnt = 0\n",
    "    for n in range(n_users):\n",
    "        ids, scores_truth = get_items_rated_by_user(rates, n)\n",
    "        scores_pred = Yhat[ids, n]\n",
    "        e = scores_truth - scores_pred \n",
    "        se += (e*e).sum(axis = 0)\n",
    "        cnt += e.size \n",
    "    return math.sqrt(se/cnt)\n",
    "\n",
    "print('RMSE for training:', evaluate(Yhat, rating_train, W, b))\n",
    "print('RMSE for test    :', evaluate(Yhat, rating_test, W, b))\n",
    "# print 'RMSE for training:', evaluate(Yhat, rate_train, W, b)\n",
    "# print 'RMSE for test    :', evaluate(Yhat, rate_test, W, b)"
   ]
  }
 ],
 "metadata": {
  "kernelspec": {
   "display_name": "venv",
   "language": "python",
   "name": "python3"
  },
  "language_info": {
   "codemirror_mode": {
    "name": "ipython",
    "version": 3
   },
   "file_extension": ".py",
   "mimetype": "text/x-python",
   "name": "python",
   "nbconvert_exporter": "python",
   "pygments_lexer": "ipython3",
   "version": "3.11.4"
  }
 },
 "nbformat": 4,
 "nbformat_minor": 2
}
